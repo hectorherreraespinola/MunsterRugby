{
 "cells": [
  {
   "cell_type": "markdown",
   "metadata": {},
   "source": [
    "Rugby Munster ETL"
   ]
  },
  {
   "cell_type": "code",
   "execution_count": 1,
   "metadata": {},
   "outputs": [
    {
     "name": "stdout",
     "output_type": "stream",
     "text": [
      "The data has been extracted and saved as CSV files.\n"
     ]
    }
   ],
   "source": [
    "import xml.etree.ElementTree as ET\n",
    "import pandas as pd\n",
    "import os\n",
    "\n",
    "\n",
    "def parse_xml(file):\n",
    "    \"\"\"This function parses the XML file and extracts the MatchData, TeamData, and FixData.\"\"\"\n",
    "    \n",
    "    tree = ET.parse(file)\n",
    "    root = tree.getroot()\n",
    "\n",
    "    # MatchData\n",
    "    match_data = [action.attrib for action in root.findall('.//MatchData/ActionRow')]\n",
    "\n",
    "    # TeamData\n",
    "    team_data = [team.attrib for team in root.findall('.//TeamData/Player')]\n",
    "\n",
    "    #FixData\n",
    "    fix_data = [fixture.attrib for fixture in root.findall('.//FixData/Data')]\n",
    "\n",
    "    return pd.DataFrame(match_data), pd.DataFrame(team_data), pd.DataFrame(fix_data)\n",
    "\n",
    "# Empty DataFrames\n",
    "match_data_concat = pd.DataFrame()\n",
    "team_data_concat = pd.DataFrame()\n",
    "fix_data_concat = pd.DataFrame()\n",
    "\n",
    "# XML Paths\n",
    "xml_files = ['Data\\938734_EDINvMUNS_advanced_superscout.xml', 'Data\\938749_MUNSvOSPR_advanced_superscout.xml', 'Data\\938754_MUNSvGLAS_advanced_superscout.xml']  # Añadir los nombres de tus archivos\n",
    "\n",
    "# Iterate over each XML file and concatenate the data\n",
    "for file in xml_files:\n",
    "    match_data, team_data, fix_data = parse_xml(file)\n",
    "    match_data_concat = pd.concat([match_data_concat, match_data], ignore_index=True)\n",
    "    team_data_concat = pd.concat([team_data_concat, team_data], ignore_index=True)\n",
    "    fix_data_concat = pd.concat([fix_data_concat, fix_data], ignore_index=True)\n",
    "\n",
    "# Save the concatenated DataFrames as CSV to import them into Power BI\n",
    "match_data_concat.to_csv('Output/match_data.csv', index=False)\n",
    "team_data_concat.to_csv('Output/team_data.csv', index=False)\n",
    "fix_data_concat.to_csv('Output/fix_data.csv', index=False)\n",
    "\n",
    "print(\"The data has been extracted and saved as CSV files.\")\n"
   ]
  },
  {
   "cell_type": "markdown",
   "metadata": {},
   "source": []
  },
  {
   "cell_type": "code",
   "execution_count": null,
   "metadata": {},
   "outputs": [],
   "source": []
  }
 ],
 "metadata": {
  "kernelspec": {
   "display_name": "Python 3",
   "language": "python",
   "name": "python3"
  },
  "language_info": {
   "codemirror_mode": {
    "name": "ipython",
    "version": 3
   },
   "file_extension": ".py",
   "mimetype": "text/x-python",
   "name": "python",
   "nbconvert_exporter": "python",
   "pygments_lexer": "ipython3",
   "version": "3.11.5"
  }
 },
 "nbformat": 4,
 "nbformat_minor": 2
}
